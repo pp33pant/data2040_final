{
 "cells": [
  {
   "cell_type": "code",
   "execution_count": 26,
   "metadata": {},
   "outputs": [],
   "source": [
    "import numpy as np \n",
    "import pandas as pd \n",
    "import seaborn as sns\n",
    "from keras.models import Sequential\n",
    "from keras.layers import LSTM,Dense\n",
    "from sklearn.preprocessing import MinMaxScaler\n",
    "import matplotlib.pyplot as plt\n",
    "from subprocess import check_output\n"
   ]
  },
  {
   "cell_type": "code",
   "execution_count": 15,
   "metadata": {},
   "outputs": [
    {
     "data": {
      "text/html": [
       "<div>\n",
       "<style scoped>\n",
       "    .dataframe tbody tr th:only-of-type {\n",
       "        vertical-align: middle;\n",
       "    }\n",
       "\n",
       "    .dataframe tbody tr th {\n",
       "        vertical-align: top;\n",
       "    }\n",
       "\n",
       "    .dataframe thead th {\n",
       "        text-align: right;\n",
       "    }\n",
       "</style>\n",
       "<table border=\"1\" class=\"dataframe\">\n",
       "  <thead>\n",
       "    <tr style=\"text-align: right;\">\n",
       "      <th></th>\n",
       "      <th>Date</th>\n",
       "      <th>Open</th>\n",
       "      <th>High</th>\n",
       "      <th>Low</th>\n",
       "      <th>Close</th>\n",
       "      <th>Volume</th>\n",
       "      <th>Name</th>\n",
       "    </tr>\n",
       "  </thead>\n",
       "  <tbody>\n",
       "    <tr>\n",
       "      <th>0</th>\n",
       "      <td>2012-08-13</td>\n",
       "      <td>92.29</td>\n",
       "      <td>92.59</td>\n",
       "      <td>91.74</td>\n",
       "      <td>92.40</td>\n",
       "      <td>2075391.0</td>\n",
       "      <td>MMM</td>\n",
       "    </tr>\n",
       "    <tr>\n",
       "      <th>1</th>\n",
       "      <td>2012-08-14</td>\n",
       "      <td>92.36</td>\n",
       "      <td>92.50</td>\n",
       "      <td>92.01</td>\n",
       "      <td>92.30</td>\n",
       "      <td>1843476.0</td>\n",
       "      <td>MMM</td>\n",
       "    </tr>\n",
       "    <tr>\n",
       "      <th>2</th>\n",
       "      <td>2012-08-15</td>\n",
       "      <td>92.00</td>\n",
       "      <td>92.74</td>\n",
       "      <td>91.94</td>\n",
       "      <td>92.54</td>\n",
       "      <td>1983395.0</td>\n",
       "      <td>MMM</td>\n",
       "    </tr>\n",
       "    <tr>\n",
       "      <th>3</th>\n",
       "      <td>2012-08-16</td>\n",
       "      <td>92.75</td>\n",
       "      <td>93.87</td>\n",
       "      <td>92.21</td>\n",
       "      <td>93.74</td>\n",
       "      <td>3395145.0</td>\n",
       "      <td>MMM</td>\n",
       "    </tr>\n",
       "    <tr>\n",
       "      <th>4</th>\n",
       "      <td>2012-08-17</td>\n",
       "      <td>93.93</td>\n",
       "      <td>94.30</td>\n",
       "      <td>93.59</td>\n",
       "      <td>94.24</td>\n",
       "      <td>3069513.0</td>\n",
       "      <td>MMM</td>\n",
       "    </tr>\n",
       "  </tbody>\n",
       "</table>\n",
       "</div>"
      ],
      "text/plain": [
       "         Date   Open   High    Low  Close     Volume Name\n",
       "0  2012-08-13  92.29  92.59  91.74  92.40  2075391.0  MMM\n",
       "1  2012-08-14  92.36  92.50  92.01  92.30  1843476.0  MMM\n",
       "2  2012-08-15  92.00  92.74  91.94  92.54  1983395.0  MMM\n",
       "3  2012-08-16  92.75  93.87  92.21  93.74  3395145.0  MMM\n",
       "4  2012-08-17  93.93  94.30  93.59  94.24  3069513.0  MMM"
      ]
     },
     "execution_count": 15,
     "metadata": {},
     "output_type": "execute_result"
    }
   ],
   "source": [
    "# Data that we use:\n",
    "# S&P 500 stock data \n",
    "# Available here:\n",
    "# https://www.kaggle.com/camnugent/sandp500\n",
    "data = pd.read_csv('all_stocks_5yr.csv')\n",
    "data.head()"
   ]
  },
  {
   "cell_type": "code",
   "execution_count": 16,
   "metadata": {},
   "outputs": [
    {
     "data": {
      "text/html": [
       "<div>\n",
       "<style scoped>\n",
       "    .dataframe tbody tr th:only-of-type {\n",
       "        vertical-align: middle;\n",
       "    }\n",
       "\n",
       "    .dataframe tbody tr th {\n",
       "        vertical-align: top;\n",
       "    }\n",
       "\n",
       "    .dataframe thead th {\n",
       "        text-align: right;\n",
       "    }\n",
       "</style>\n",
       "<table border=\"1\" class=\"dataframe\">\n",
       "  <thead>\n",
       "    <tr style=\"text-align: right;\">\n",
       "      <th></th>\n",
       "      <th>Open</th>\n",
       "      <th>High</th>\n",
       "      <th>Low</th>\n",
       "      <th>Close</th>\n",
       "      <th>Volume</th>\n",
       "    </tr>\n",
       "  </thead>\n",
       "  <tbody>\n",
       "    <tr>\n",
       "      <th>count</th>\n",
       "      <td>606417.000000</td>\n",
       "      <td>606593.000000</td>\n",
       "      <td>606574.000000</td>\n",
       "      <td>606801.000000</td>\n",
       "      <td>6.063950e+05</td>\n",
       "    </tr>\n",
       "    <tr>\n",
       "      <th>mean</th>\n",
       "      <td>79.529041</td>\n",
       "      <td>80.257435</td>\n",
       "      <td>78.799338</td>\n",
       "      <td>79.557920</td>\n",
       "      <td>4.500925e+06</td>\n",
       "    </tr>\n",
       "    <tr>\n",
       "      <th>std</th>\n",
       "      <td>93.383162</td>\n",
       "      <td>94.187977</td>\n",
       "      <td>92.535300</td>\n",
       "      <td>93.382168</td>\n",
       "      <td>9.336171e+06</td>\n",
       "    </tr>\n",
       "    <tr>\n",
       "      <th>min</th>\n",
       "      <td>1.620000</td>\n",
       "      <td>1.690000</td>\n",
       "      <td>1.500000</td>\n",
       "      <td>1.590000</td>\n",
       "      <td>0.000000e+00</td>\n",
       "    </tr>\n",
       "    <tr>\n",
       "      <th>25%</th>\n",
       "      <td>38.070000</td>\n",
       "      <td>38.460000</td>\n",
       "      <td>37.700000</td>\n",
       "      <td>38.090000</td>\n",
       "      <td>1.077091e+06</td>\n",
       "    </tr>\n",
       "    <tr>\n",
       "      <th>50%</th>\n",
       "      <td>59.240000</td>\n",
       "      <td>59.790000</td>\n",
       "      <td>58.690000</td>\n",
       "      <td>59.270000</td>\n",
       "      <td>2.131913e+06</td>\n",
       "    </tr>\n",
       "    <tr>\n",
       "      <th>75%</th>\n",
       "      <td>89.390000</td>\n",
       "      <td>90.150000</td>\n",
       "      <td>88.620000</td>\n",
       "      <td>89.430000</td>\n",
       "      <td>4.442768e+06</td>\n",
       "    </tr>\n",
       "    <tr>\n",
       "      <th>max</th>\n",
       "      <td>2044.000000</td>\n",
       "      <td>2067.990000</td>\n",
       "      <td>2035.110000</td>\n",
       "      <td>2049.000000</td>\n",
       "      <td>6.182376e+08</td>\n",
       "    </tr>\n",
       "  </tbody>\n",
       "</table>\n",
       "</div>"
      ],
      "text/plain": [
       "                Open           High            Low          Close  \\\n",
       "count  606417.000000  606593.000000  606574.000000  606801.000000   \n",
       "mean       79.529041      80.257435      78.799338      79.557920   \n",
       "std        93.383162      94.187977      92.535300      93.382168   \n",
       "min         1.620000       1.690000       1.500000       1.590000   \n",
       "25%        38.070000      38.460000      37.700000      38.090000   \n",
       "50%        59.240000      59.790000      58.690000      59.270000   \n",
       "75%        89.390000      90.150000      88.620000      89.430000   \n",
       "max      2044.000000    2067.990000    2035.110000    2049.000000   \n",
       "\n",
       "             Volume  \n",
       "count  6.063950e+05  \n",
       "mean   4.500925e+06  \n",
       "std    9.336171e+06  \n",
       "min    0.000000e+00  \n",
       "25%    1.077091e+06  \n",
       "50%    2.131913e+06  \n",
       "75%    4.442768e+06  \n",
       "max    6.182376e+08  "
      ]
     },
     "execution_count": 16,
     "metadata": {},
     "output_type": "execute_result"
    }
   ],
   "source": [
    "# Here is astatistics description of our dataset\n",
    "data.describe()"
   ]
  },
  {
   "cell_type": "code",
   "execution_count": 17,
   "metadata": {},
   "outputs": [
    {
     "data": {
      "text/plain": [
       "Date        0\n",
       "Open      384\n",
       "High      208\n",
       "Low       227\n",
       "Close       0\n",
       "Volume    406\n",
       "Name        0\n",
       "dtype: int64"
      ]
     },
     "execution_count": 17,
     "metadata": {},
     "output_type": "execute_result"
    }
   ],
   "source": [
    "# Have a check the missing values\n",
    "data.isnull().sum()"
   ]
  },
  {
   "cell_type": "code",
   "execution_count": 18,
   "metadata": {},
   "outputs": [
    {
     "data": {
      "text/plain": [
       "Date      411\n",
       "Open      395\n",
       "High      565\n",
       "Low       556\n",
       "Close     781\n",
       "Volume    381\n",
       "Name      382\n",
       "dtype: int64"
      ]
     },
     "execution_count": 18,
     "metadata": {},
     "output_type": "execute_result"
    }
   ],
   "source": [
    "data.loc[data.isnull().sum(axis = 1).astype(bool)].nunique()"
   ]
  },
  {
   "cell_type": "code",
   "execution_count": 20,
   "metadata": {},
   "outputs": [
    {
     "data": {
      "text/plain": [
       "(606801, 7)"
      ]
     },
     "execution_count": 20,
     "metadata": {},
     "output_type": "execute_result"
    }
   ],
   "source": [
    "data.shape"
   ]
  },
  {
   "cell_type": "code",
   "execution_count": 21,
   "metadata": {},
   "outputs": [],
   "source": [
    "# Compared with the whole dataset, it seems that missing values only\n",
    "# consist of a small percentage of the whole, so I decide to delete them \n",
    "# directly.\n",
    "clean_data = data.dropna()"
   ]
  },
  {
   "cell_type": "code",
   "execution_count": 22,
   "metadata": {},
   "outputs": [
    {
     "data": {
      "text/plain": [
       "(606011, 7)"
      ]
     },
     "execution_count": 22,
     "metadata": {},
     "output_type": "execute_result"
    }
   ],
   "source": [
    "clean_data.shape"
   ]
  },
  {
   "cell_type": "code",
   "execution_count": 23,
   "metadata": {},
   "outputs": [
    {
     "data": {
      "text/plain": [
       "503"
      ]
     },
     "execution_count": 23,
     "metadata": {},
     "output_type": "execute_result"
    }
   ],
   "source": [
    "# The dataset contains 503 companies\n",
    "clean_data['Name'].nunique()"
   ]
  },
  {
   "cell_type": "code",
   "execution_count": 24,
   "metadata": {},
   "outputs": [],
   "source": [
    "# EDA\n",
    "# Have a look at several companies"
   ]
  },
  {
   "cell_type": "code",
   "execution_count": 25,
   "metadata": {},
   "outputs": [
    {
     "data": {
      "text/html": [
       "<div>\n",
       "<style scoped>\n",
       "    .dataframe tbody tr th:only-of-type {\n",
       "        vertical-align: middle;\n",
       "    }\n",
       "\n",
       "    .dataframe tbody tr th {\n",
       "        vertical-align: top;\n",
       "    }\n",
       "\n",
       "    .dataframe thead th {\n",
       "        text-align: right;\n",
       "    }\n",
       "</style>\n",
       "<table border=\"1\" class=\"dataframe\">\n",
       "  <thead>\n",
       "    <tr style=\"text-align: right;\">\n",
       "      <th></th>\n",
       "      <th>Date</th>\n",
       "      <th>Open</th>\n",
       "      <th>High</th>\n",
       "      <th>Low</th>\n",
       "      <th>Close</th>\n",
       "      <th>Volume</th>\n",
       "      <th>Name</th>\n",
       "    </tr>\n",
       "  </thead>\n",
       "  <tbody>\n",
       "    <tr>\n",
       "      <th>32024</th>\n",
       "      <td>2012-08-13</td>\n",
       "      <td>324.03</td>\n",
       "      <td>330.41</td>\n",
       "      <td>323.66</td>\n",
       "      <td>330.34</td>\n",
       "      <td>3268073.0</td>\n",
       "      <td>GOOGL</td>\n",
       "    </tr>\n",
       "    <tr>\n",
       "      <th>32025</th>\n",
       "      <td>2012-08-14</td>\n",
       "      <td>329.95</td>\n",
       "      <td>336.76</td>\n",
       "      <td>329.83</td>\n",
       "      <td>334.66</td>\n",
       "      <td>3662178.0</td>\n",
       "      <td>GOOGL</td>\n",
       "    </tr>\n",
       "    <tr>\n",
       "      <th>32026</th>\n",
       "      <td>2012-08-15</td>\n",
       "      <td>335.48</td>\n",
       "      <td>337.46</td>\n",
       "      <td>332.38</td>\n",
       "      <td>334.10</td>\n",
       "      <td>2411100.0</td>\n",
       "      <td>GOOGL</td>\n",
       "    </tr>\n",
       "    <tr>\n",
       "      <th>32027</th>\n",
       "      <td>2012-08-16</td>\n",
       "      <td>334.09</td>\n",
       "      <td>337.66</td>\n",
       "      <td>333.87</td>\n",
       "      <td>336.77</td>\n",
       "      <td>1717691.0</td>\n",
       "      <td>GOOGL</td>\n",
       "    </tr>\n",
       "    <tr>\n",
       "      <th>32028</th>\n",
       "      <td>2012-08-17</td>\n",
       "      <td>337.40</td>\n",
       "      <td>338.96</td>\n",
       "      <td>336.19</td>\n",
       "      <td>338.91</td>\n",
       "      <td>2177896.0</td>\n",
       "      <td>GOOGL</td>\n",
       "    </tr>\n",
       "  </tbody>\n",
       "</table>\n",
       "</div>"
      ],
      "text/plain": [
       "             Date    Open    High     Low   Close     Volume   Name\n",
       "32024  2012-08-13  324.03  330.41  323.66  330.34  3268073.0  GOOGL\n",
       "32025  2012-08-14  329.95  336.76  329.83  334.66  3662178.0  GOOGL\n",
       "32026  2012-08-15  335.48  337.46  332.38  334.10  2411100.0  GOOGL\n",
       "32027  2012-08-16  334.09  337.66  333.87  336.77  1717691.0  GOOGL\n",
       "32028  2012-08-17  337.40  338.96  336.19  338.91  2177896.0  GOOGL"
      ]
     },
     "execution_count": 25,
     "metadata": {},
     "output_type": "execute_result"
    }
   ],
   "source": [
    "Google = clean_data.loc[clean_data['Name'] == 'GOOGL']\n",
    "Google.head()"
   ]
  },
  {
   "cell_type": "code",
   "execution_count": null,
   "metadata": {},
   "outputs": [],
   "source": [
    "fig = plt.figure()\n",
    "ax1 = fig.add_subplot(221)\n",
    "ax1 = sns.lineplot(x=\"Date\", y=\"Open\",\n",
    "                  markers=True, dashes=False, data=Google)\n",
    "ax2 = fig.add_subplot(222, sharex=ax1, sharey=ax1)\n",
    "ax2 = sns.lineplot(x=\"Date\", y=\"Close\",\n",
    "                  markers=True, dashes=False, data=Google)\n",
    "ax3 = fig.add_subplot(223, sharex=ax1, sharey=ax1)\n",
    "ax3 = sns.lineplot(x=\"Date\", y=\"High\",\n",
    "                  markers=True, dashes=False, data=Google)\n",
    "ax4 = fig.add_subplot(224, sharex=ax1, sharey=ax1)\n",
    "ax4 = sns.lineplot(x=\"Date\", y=\"Low\",\n",
    "                  markers=True, dashes=False, data=Google)"
   ]
  },
  {
   "cell_type": "code",
   "execution_count": null,
   "metadata": {},
   "outputs": [],
   "source": []
  },
  {
   "cell_type": "code",
   "execution_count": null,
   "metadata": {},
   "outputs": [],
   "source": []
  },
  {
   "cell_type": "code",
   "execution_count": null,
   "metadata": {},
   "outputs": [],
   "source": []
  },
  {
   "cell_type": "code",
   "execution_count": null,
   "metadata": {},
   "outputs": [],
   "source": [
    "#We will be using the closing data of MMM(want to do something other than AAPL :))\n",
    "cl = data[data['Name']=='MMM'].Close\n",
    "scl = MinMaxScaler()\n",
    "#Scale the data\n",
    "cl = cl.values.reshape(cl.shape[0],1)\n",
    "cl = scl.fit_transform(cl)\n",
    "cl"
   ]
  },
  {
   "cell_type": "code",
   "execution_count": null,
   "metadata": {},
   "outputs": [],
   "source": []
  },
  {
   "cell_type": "code",
   "execution_count": null,
   "metadata": {},
   "outputs": [],
   "source": [
    "#Create a function to process the data into 7 day look back slices\n",
    "def processData(data,lb):\n",
    "    X,Y = [],[]\n",
    "    for i in range(len(data)-lb-1):\n",
    "        X.append(data[i:(i+lb),0])\n",
    "        Y.append(data[(i+lb),0])\n",
    "    return np.array(X),np.array(Y)\n",
    "X,y = processData(cl,7)\n",
    "X_train,X_test = X[:int(X.shape[0]*0.80)],X[int(X.shape[0]*0.80):]\n",
    "y_train,y_test = y[:int(y.shape[0]*0.80)],y[int(y.shape[0]*0.80):]\n",
    "print(X_train.shape[0])\n",
    "print(X_test.shape[0])\n",
    "print(y_train.shape[0])\n",
    "print(y_test.shape[0])"
   ]
  },
  {
   "cell_type": "code",
   "execution_count": null,
   "metadata": {},
   "outputs": [],
   "source": [
    "#Build the model\n",
    "model = Sequential()\n",
    "model.add(LSTM(256,input_shape=(7,1)))\n",
    "model.add(Dense(1))\n",
    "model.compile(optimizer='adam',loss='mse')\n",
    "#Reshape data for (Sample,Timestep,Features) \n",
    "X_train = X_train.reshape((X_train.shape[0],X_train.shape[1],1))\n",
    "X_test = X_test.reshape((X_test.shape[0],X_test.shape[1],1))\n",
    "#Fit model with history to check for overfitting\n",
    "history = model.fit(X_train,y_train,epochs=400,validation_data=(X_test,y_test),shuffle=False)"
   ]
  },
  {
   "cell_type": "code",
   "execution_count": null,
   "metadata": {},
   "outputs": [],
   "source": [
    "plt.plot(history.history['loss'])\n",
    "plt.plot(history.history['val_loss'])"
   ]
  },
  {
   "cell_type": "code",
   "execution_count": null,
   "metadata": {},
   "outputs": [],
   "source": [
    "X_test[0]"
   ]
  },
  {
   "cell_type": "code",
   "execution_count": null,
   "metadata": {},
   "outputs": [],
   "source": [
    "Xt = model.predict(X_test)\n",
    "plt.plot(scl.inverse_transform(y_test.reshape(-1,1)))\n",
    "plt.plot(scl.inverse_transform(Xt))"
   ]
  },
  {
   "cell_type": "code",
   "execution_count": null,
   "metadata": {},
   "outputs": [],
   "source": [
    "act = []\n",
    "pred = []\n",
    "#for i in range(250):\n",
    "i=249\n",
    "Xt = model.predict(X_test[i].reshape(1,7,1))\n",
    "print('predicted:{0}, actual:{1}'.format(scl.inverse_transform(Xt),scl.inverse_transform(y_test[i].reshape(-1,1))))\n",
    "pred.append(scl.inverse_transform(Xt))\n",
    "act.append(scl.inverse_transform(y_test[i].reshape(-1,1)))"
   ]
  },
  {
   "cell_type": "code",
   "execution_count": null,
   "metadata": {},
   "outputs": [],
   "source": [
    "result_df = pd.DataFrame({'pred':list(np.reshape(pred, (-1))),'act':list(np.reshape(act, (-1)))})"
   ]
  },
  {
   "cell_type": "code",
   "execution_count": null,
   "metadata": {},
   "outputs": [],
   "source": [
    "Xt = model.predict(X_test)\n",
    "plt.plot(scl.inverse_transform(y_test.reshape(-1,1)))\n",
    "plt.plot(scl.inverse_transform(Xt))"
   ]
  },
  {
   "cell_type": "code",
   "execution_count": null,
   "metadata": {},
   "outputs": [],
   "source": []
  }
 ],
 "metadata": {
  "kernelspec": {
   "display_name": "Python 3",
   "language": "python",
   "name": "python3"
  },
  "language_info": {
   "codemirror_mode": {
    "name": "ipython",
    "version": 3
   },
   "file_extension": ".py",
   "mimetype": "text/x-python",
   "name": "python",
   "nbconvert_exporter": "python",
   "pygments_lexer": "ipython3",
   "version": "3.6.5"
  }
 },
 "nbformat": 4,
 "nbformat_minor": 2
}
